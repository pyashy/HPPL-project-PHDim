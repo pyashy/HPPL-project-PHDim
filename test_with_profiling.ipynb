{
  "cells": [
    {
      "cell_type": "code",
      "execution_count": 1,
      "id": "Zf8grIoOg4HJ",
      "metadata": {
        "colab": {
          "base_uri": "https://localhost:8080/"
        },
        "id": "Zf8grIoOg4HJ",
        "outputId": "f4b12dd2-994b-4b7f-e373-d3de7179210c"
      },
      "outputs": [
        {
          "name": "stdout",
          "output_type": "stream",
          "text": [
            "Mounted at /content/drive\n"
          ]
        }
      ],
      "source": [
        "from google.colab import drive\n",
        "drive.mount('/content/drive')"
      ]
    },
    {
      "cell_type": "code",
      "execution_count": 3,
      "id": "wMxxVnHaxPsy",
      "metadata": {
        "colab": {
          "base_uri": "https://localhost:8080/"
        },
        "id": "wMxxVnHaxPsy",
        "outputId": "f3ac5252-d114-4598-d0a8-6453292bec8b"
      },
      "outputs": [
        {
          "name": "stdout",
          "output_type": "stream",
          "text": [
            "Collecting scikit-dimension\n",
            "  Downloading scikit_dimension-0.3.3-py3-none-any.whl (65 kB)\n",
            "\u001b[2K     \u001b[90m━━━━━━━━━━━━━━━━━━━━━━━━━━━━━━━━━━━━━━━━\u001b[0m \u001b[32m65.0/65.0 kB\u001b[0m \u001b[31m2.0 MB/s\u001b[0m eta \u001b[36m0:00:00\u001b[0m\n",
            "\u001b[?25hRequirement already satisfied: numpy in /usr/local/lib/python3.10/dist-packages (from scikit-dimension) (1.23.5)\n",
            "Requirement already satisfied: numba in /usr/local/lib/python3.10/dist-packages (from scikit-dimension) (0.58.1)\n",
            "Requirement already satisfied: scipy in /usr/local/lib/python3.10/dist-packages (from scikit-dimension) (1.11.4)\n",
            "Requirement already satisfied: scikit-learn in /usr/local/lib/python3.10/dist-packages (from scikit-dimension) (1.2.2)\n",
            "Requirement already satisfied: llvmlite<0.42,>=0.41.0dev0 in /usr/local/lib/python3.10/dist-packages (from numba->scikit-dimension) (0.41.1)\n",
            "Requirement already satisfied: joblib>=1.1.1 in /usr/local/lib/python3.10/dist-packages (from scikit-learn->scikit-dimension) (1.3.2)\n",
            "Requirement already satisfied: threadpoolctl>=2.0.0 in /usr/local/lib/python3.10/dist-packages (from scikit-learn->scikit-dimension) (3.2.0)\n",
            "Installing collected packages: scikit-dimension\n",
            "Successfully installed scikit-dimension-0.3.3\n"
          ]
        }
      ],
      "source": [
        "!pip install scikit-dimension"
      ]
    },
    {
      "cell_type": "code",
      "execution_count": 14,
      "id": "NsAxm_JBhltC",
      "metadata": {
        "id": "NsAxm_JBhltC"
      },
      "outputs": [],
      "source": [
        "import sys\n",
        "sys.path.append('/content/drive/MyDrive/Colab_Notebooks/HPPL/Final_project/HPPL-project-PHDim-main')\n",
        "import PHdim"
      ]
    },
    {
      "cell_type": "code",
      "execution_count": 4,
      "id": "jlRTi-uczOWd",
      "metadata": {
        "id": "jlRTi-uczOWd"
      },
      "outputs": [],
      "source": [
        "import cupy as cp"
      ]
    },
    {
      "cell_type": "code",
      "execution_count": 15,
      "id": "cb6fcfbf-83f4-43c5-aa7e-5094df34d9cb",
      "metadata": {
        "id": "cb6fcfbf-83f4-43c5-aa7e-5094df34d9cb"
      },
      "outputs": [],
      "source": [
        "import numpy as np\n",
        "import skdim\n",
        "from scipy.spatial.distance import cdist\n",
        "from PHdim import PHD"
      ]
    },
    {
      "cell_type": "code",
      "execution_count": 25,
      "id": "ac520ee2-1c4a-44b8-927a-af92d602efe5",
      "metadata": {
        "id": "ac520ee2-1c4a-44b8-927a-af92d602efe5"
      },
      "outputs": [],
      "source": [
        "# creating data\n",
        "X = np.zeros((1000,10))\n",
        "X[:,:5] = skdim.datasets.hyperBall(n = 1000, d = 5, radius = 1, random_state = 0)\n"
      ]
    },
    {
      "cell_type": "code",
      "execution_count": 26,
      "id": "_ubBlsVJ0DgT",
      "metadata": {
        "colab": {
          "base_uri": "https://localhost:8080/"
        },
        "id": "_ubBlsVJ0DgT",
        "outputId": "becc67b1-40ab-4a63-9c87-29c5367b69ae"
      },
      "outputs": [
        {
          "name": "stdout",
          "output_type": "stream",
          "text": [
            "         251944 function calls in 0.656 seconds\n",
            "\n",
            "   Ordered by: cumulative time\n",
            "\n",
            "   ncalls  tottime  percall  cumtime  percall filename:lineno(function)\n",
            "        1    0.000    0.000    0.656    0.656 <ipython-input-24-0017ebf0fad3>:94(get_mst_value)\n",
            "       75    0.493    0.007    0.656    0.009 <ipython-input-24-0017ebf0fad3>:50(_prim_tree)\n",
            "    35520    0.024    0.000    0.148    0.000 <__array_function__ internals>:177(argmin)\n",
            "    35820    0.018    0.000    0.130    0.000 {built-in method numpy.core._multiarray_umath.implement_array_function}\n",
            "    35520    0.035    0.000    0.100    0.000 fromnumeric.py:1223(argmin)\n",
            "    35520    0.022    0.000    0.065    0.000 fromnumeric.py:51(_wrapfunc)\n",
            "    35520    0.036    0.000    0.036    0.000 {method 'argmin' of 'numpy.ndarray' objects}\n",
            "       75    0.000    0.000    0.011    0.000 <__array_function__ internals>:177(amax)\n",
            "       75    0.000    0.000    0.010    0.000 fromnumeric.py:2677(amax)\n",
            "       75    0.000    0.000    0.010    0.000 fromnumeric.py:69(_wrapreduction)\n",
            "       75    0.010    0.000    0.010    0.000 {method 'reduce' of 'numpy.ufunc' objects}\n",
            "    35520    0.007    0.000    0.007    0.000 {built-in method builtins.getattr}\n",
            "    35520    0.007    0.000    0.007    0.000 fromnumeric.py:1219(_argmin_dispatcher)\n",
            "       75    0.000    0.000    0.002    0.000 <__array_function__ internals>:177(ix_)\n",
            "       75    0.001    0.000    0.002    0.000 index_tricks.py:35(ix_)\n",
            "      150    0.000    0.000    0.001    0.000 numeric.py:149(ones)\n",
            "      150    0.000    0.000    0.001    0.000 <__array_function__ internals>:177(copyto)\n",
            "      150    0.000    0.000    0.001    0.000 numerictypes.py:356(issubdtype)\n",
            "      300    0.000    0.000    0.000    0.000 numerictypes.py:282(issubclass_)\n",
            "       75    0.000    0.000    0.000    0.000 {method 'item' of 'numpy.generic' objects}\n",
            "      150    0.000    0.000    0.000    0.000 {method 'reshape' of 'numpy.ndarray' objects}\n",
            "      150    0.000    0.000    0.000    0.000 {built-in method numpy.empty}\n",
            "      450    0.000    0.000    0.000    0.000 {built-in method builtins.issubclass}\n",
            "       76    0.000    0.000    0.000    0.000 {built-in method numpy.zeros}\n",
            "       75    0.000    0.000    0.000    0.000 fromnumeric.py:70(<dictcomp>)\n",
            "       75    0.000    0.000    0.000    0.000 fromnumeric.py:2672(_amax_dispatcher)\n",
            "      150    0.000    0.000    0.000    0.000 multiarray.py:1071(copyto)\n",
            "      150    0.000    0.000    0.000    0.000 {method 'append' of 'list' objects}\n",
            "       76    0.000    0.000    0.000    0.000 {built-in method builtins.len}\n",
            "      150    0.000    0.000    0.000    0.000 {built-in method builtins.isinstance}\n",
            "       75    0.000    0.000    0.000    0.000 {method 'items' of 'dict' objects}\n",
            "       75    0.000    0.000    0.000    0.000 index_tricks.py:31(_ix__dispatcher)\n",
            "        1    0.000    0.000    0.000    0.000 {method 'disable' of '_lsprof.Profiler' objects}\n",
            "\n",
            "\n",
            "4.7319304556321855\n"
          ]
        }
      ],
      "source": [
        "intD = PHD('classic').fit_transform(X)\n",
        "print(intD)"
      ]
    },
    {
      "cell_type": "code",
      "execution_count": 27,
      "id": "9fBlR_BI0Fz_",
      "metadata": {
        "colab": {
          "base_uri": "https://localhost:8080/"
        },
        "id": "9fBlR_BI0Fz_",
        "outputId": "d324f03a-67a3-4552-a889-f27135f2a74e"
      },
      "outputs": [
        {
          "name": "stdout",
          "output_type": "stream",
          "text": [
            "         251944 function calls in 0.956 seconds\n",
            "\n",
            "   Ordered by: cumulative time\n",
            "\n",
            "   ncalls  tottime  percall  cumtime  percall filename:lineno(function)\n",
            "        1    0.000    0.000    0.956    0.956 <ipython-input-24-0017ebf0fad3>:94(get_mst_value)\n",
            "       75    0.730    0.010    0.955    0.013 <ipython-input-24-0017ebf0fad3>:50(_prim_tree)\n",
            "    35520    0.033    0.000    0.207    0.000 <__array_function__ internals>:177(argmin)\n",
            "    35820    0.026    0.000    0.181    0.000 {built-in method numpy.core._multiarray_umath.implement_array_function}\n",
            "    35520    0.049    0.000    0.141    0.000 fromnumeric.py:1223(argmin)\n",
            "    35520    0.030    0.000    0.092    0.000 fromnumeric.py:51(_wrapfunc)\n",
            "    35520    0.053    0.000    0.053    0.000 {method 'argmin' of 'numpy.ndarray' objects}\n",
            "       75    0.000    0.000    0.013    0.000 <__array_function__ internals>:177(amax)\n",
            "       75    0.000    0.000    0.013    0.000 fromnumeric.py:2677(amax)\n",
            "       75    0.001    0.000    0.012    0.000 fromnumeric.py:69(_wrapreduction)\n",
            "       75    0.012    0.000    0.012    0.000 {method 'reduce' of 'numpy.ufunc' objects}\n",
            "    35520    0.009    0.000    0.009    0.000 fromnumeric.py:1219(_argmin_dispatcher)\n",
            "    35520    0.009    0.000    0.009    0.000 {built-in method builtins.getattr}\n",
            "       75    0.000    0.000    0.003    0.000 <__array_function__ internals>:177(ix_)\n",
            "       75    0.001    0.000    0.002    0.000 index_tricks.py:35(ix_)\n",
            "      150    0.000    0.000    0.002    0.000 numeric.py:149(ones)\n",
            "      150    0.000    0.000    0.001    0.000 <__array_function__ internals>:177(copyto)\n",
            "      150    0.000    0.000    0.001    0.000 numerictypes.py:356(issubdtype)\n",
            "      300    0.000    0.000    0.000    0.000 numerictypes.py:282(issubclass_)\n",
            "       75    0.000    0.000    0.000    0.000 {method 'item' of 'numpy.generic' objects}\n",
            "      150    0.000    0.000    0.000    0.000 {method 'reshape' of 'numpy.ndarray' objects}\n",
            "      150    0.000    0.000    0.000    0.000 {built-in method numpy.empty}\n",
            "      450    0.000    0.000    0.000    0.000 {built-in method builtins.issubclass}\n",
            "       75    0.000    0.000    0.000    0.000 fromnumeric.py:70(<dictcomp>)\n",
            "       76    0.000    0.000    0.000    0.000 {built-in method numpy.zeros}\n",
            "       75    0.000    0.000    0.000    0.000 fromnumeric.py:2672(_amax_dispatcher)\n",
            "      150    0.000    0.000    0.000    0.000 multiarray.py:1071(copyto)\n",
            "      150    0.000    0.000    0.000    0.000 {method 'append' of 'list' objects}\n",
            "       76    0.000    0.000    0.000    0.000 {built-in method builtins.len}\n",
            "       75    0.000    0.000    0.000    0.000 {method 'items' of 'dict' objects}\n",
            "      150    0.000    0.000    0.000    0.000 {built-in method builtins.isinstance}\n",
            "       75    0.000    0.000    0.000    0.000 index_tricks.py:31(_ix__dispatcher)\n",
            "        1    0.000    0.000    0.000    0.000 {method 'disable' of '_lsprof.Profiler' objects}\n",
            "\n",
            "\n",
            "4.603336500468209\n"
          ]
        }
      ],
      "source": [
        "intD = PHD('cupy').fit_transform(X)\n",
        "print(intD)"
      ]
    },
    {
      "cell_type": "code",
      "execution_count": 28,
      "id": "K9Qk30BuyesB",
      "metadata": {
        "colab": {
          "base_uri": "https://localhost:8080/"
        },
        "id": "K9Qk30BuyesB",
        "outputId": "938a4f38-2c3b-482a-ca66-09f9f9f215e1"
      },
      "outputs": [
        {
          "name": "stdout",
          "output_type": "stream",
          "text": [
            "         251944 function calls in 0.640 seconds\n",
            "\n",
            "   Ordered by: cumulative time\n",
            "\n",
            "   ncalls  tottime  percall  cumtime  percall filename:lineno(function)\n",
            "        1    0.000    0.000    0.640    0.640 <ipython-input-24-0017ebf0fad3>:94(get_mst_value)\n",
            "       75    0.471    0.006    0.639    0.009 <ipython-input-24-0017ebf0fad3>:50(_prim_tree)\n",
            "    35520    0.024    0.000    0.154    0.000 <__array_function__ internals>:177(argmin)\n",
            "    35820    0.020    0.000    0.136    0.000 {built-in method numpy.core._multiarray_umath.implement_array_function}\n",
            "    35520    0.035    0.000    0.103    0.000 fromnumeric.py:1223(argmin)\n",
            "    35520    0.021    0.000    0.069    0.000 fromnumeric.py:51(_wrapfunc)\n",
            "    35520    0.041    0.000    0.041    0.000 {method 'argmin' of 'numpy.ndarray' objects}\n",
            "       75    0.000    0.000    0.011    0.000 <__array_function__ internals>:177(amax)\n",
            "       75    0.000    0.000    0.010    0.000 fromnumeric.py:2677(amax)\n",
            "       75    0.000    0.000    0.010    0.000 fromnumeric.py:69(_wrapreduction)\n",
            "       75    0.010    0.000    0.010    0.000 {method 'reduce' of 'numpy.ufunc' objects}\n",
            "    35520    0.007    0.000    0.007    0.000 {built-in method builtins.getattr}\n",
            "    35520    0.007    0.000    0.007    0.000 fromnumeric.py:1219(_argmin_dispatcher)\n",
            "       75    0.000    0.000    0.002    0.000 <__array_function__ internals>:177(ix_)\n",
            "       75    0.001    0.000    0.002    0.000 index_tricks.py:35(ix_)\n",
            "      150    0.000    0.000    0.002    0.000 numeric.py:149(ones)\n",
            "      150    0.000    0.000    0.001    0.000 <__array_function__ internals>:177(copyto)\n",
            "      150    0.000    0.000    0.001    0.000 numerictypes.py:356(issubdtype)\n",
            "      300    0.000    0.000    0.000    0.000 numerictypes.py:282(issubclass_)\n",
            "       75    0.000    0.000    0.000    0.000 {method 'item' of 'numpy.generic' objects}\n",
            "      450    0.000    0.000    0.000    0.000 {built-in method builtins.issubclass}\n",
            "      150    0.000    0.000    0.000    0.000 {method 'reshape' of 'numpy.ndarray' objects}\n",
            "      150    0.000    0.000    0.000    0.000 {built-in method numpy.empty}\n",
            "       76    0.000    0.000    0.000    0.000 {built-in method numpy.zeros}\n",
            "       75    0.000    0.000    0.000    0.000 fromnumeric.py:70(<dictcomp>)\n",
            "      150    0.000    0.000    0.000    0.000 multiarray.py:1071(copyto)\n",
            "       75    0.000    0.000    0.000    0.000 fromnumeric.py:2672(_amax_dispatcher)\n",
            "      150    0.000    0.000    0.000    0.000 {method 'append' of 'list' objects}\n",
            "       76    0.000    0.000    0.000    0.000 {built-in method builtins.len}\n",
            "      150    0.000    0.000    0.000    0.000 {built-in method builtins.isinstance}\n",
            "       75    0.000    0.000    0.000    0.000 {method 'items' of 'dict' objects}\n",
            "       75    0.000    0.000    0.000    0.000 index_tricks.py:31(_ix__dispatcher)\n",
            "        1    0.000    0.000    0.000    0.000 {method 'disable' of '_lsprof.Profiler' objects}\n",
            "\n",
            "\n",
            "4.552769453493205\n"
          ]
        }
      ],
      "source": [
        "intD = PHD('numba').fit_transform(X)\n",
        "print(intD)"
      ]
    }
  ],
  "metadata": {
    "colab": {
      "provenance": []
    },
    "kernelspec": {
      "display_name": "Python 3",
      "name": "python3"
    },
    "language_info": {
      "codemirror_mode": {
        "name": "ipython",
        "version": 3
      },
      "file_extension": ".py",
      "mimetype": "text/x-python",
      "name": "python",
      "nbconvert_exporter": "python",
      "pygments_lexer": "ipython3",
      "version": "3.9.13"
    }
  },
  "nbformat": 4,
  "nbformat_minor": 5
}
