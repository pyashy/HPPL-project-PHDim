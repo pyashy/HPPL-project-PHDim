{
  "cells": [
    {
      "cell_type": "code",
      "source": [
        "!pip install scikit-dimension"
      ],
      "metadata": {
        "colab": {
          "base_uri": "https://localhost:8080/"
        },
        "id": "wMxxVnHaxPsy",
        "outputId": "88c8c481-9e8a-4419-99ca-632c4761200d"
      },
      "id": "wMxxVnHaxPsy",
      "execution_count": 3,
      "outputs": [
        {
          "output_type": "stream",
          "name": "stdout",
          "text": [
            "Collecting scikit-dimension\n",
            "  Downloading scikit_dimension-0.3.3-py3-none-any.whl (65 kB)\n",
            "\u001b[?25l     \u001b[90m━━━━━━━━━━━━━━━━━━━━━━━━━━━━━━━━━━━━━━━━\u001b[0m \u001b[32m0.0/65.0 kB\u001b[0m \u001b[31m?\u001b[0m eta \u001b[36m-:--:--\u001b[0m\r\u001b[2K     \u001b[91m━━━━━━━━━━━━━━━━━━━━━━━━━━━━━━━━━━━━━\u001b[0m\u001b[91m╸\u001b[0m\u001b[90m━━\u001b[0m \u001b[32m61.4/65.0 kB\u001b[0m \u001b[31m1.8 MB/s\u001b[0m eta \u001b[36m0:00:01\u001b[0m\r\u001b[2K     \u001b[90m━━━━━━━━━━━━━━━━━━━━━━━━━━━━━━━━━━━━━━━━\u001b[0m \u001b[32m65.0/65.0 kB\u001b[0m \u001b[31m1.6 MB/s\u001b[0m eta \u001b[36m0:00:00\u001b[0m\n",
            "\u001b[?25hRequirement already satisfied: numpy in /usr/local/lib/python3.10/dist-packages (from scikit-dimension) (1.23.5)\n",
            "Requirement already satisfied: numba in /usr/local/lib/python3.10/dist-packages (from scikit-dimension) (0.58.1)\n",
            "Requirement already satisfied: scipy in /usr/local/lib/python3.10/dist-packages (from scikit-dimension) (1.11.4)\n",
            "Requirement already satisfied: scikit-learn in /usr/local/lib/python3.10/dist-packages (from scikit-dimension) (1.2.2)\n",
            "Requirement already satisfied: llvmlite<0.42,>=0.41.0dev0 in /usr/local/lib/python3.10/dist-packages (from numba->scikit-dimension) (0.41.1)\n",
            "Requirement already satisfied: joblib>=1.1.1 in /usr/local/lib/python3.10/dist-packages (from scikit-learn->scikit-dimension) (1.3.2)\n",
            "Requirement already satisfied: threadpoolctl>=2.0.0 in /usr/local/lib/python3.10/dist-packages (from scikit-learn->scikit-dimension) (3.2.0)\n",
            "Installing collected packages: scikit-dimension\n",
            "Successfully installed scikit-dimension-0.3.3\n"
          ]
        }
      ]
    },
    {
      "cell_type": "code",
      "source": [
        "import cupy as cp"
      ],
      "metadata": {
        "id": "jlRTi-uczOWd"
      },
      "id": "jlRTi-uczOWd",
      "execution_count": 1,
      "outputs": []
    },
    {
      "cell_type": "code",
      "execution_count": 4,
      "id": "cb6fcfbf-83f4-43c5-aa7e-5094df34d9cb",
      "metadata": {
        "id": "cb6fcfbf-83f4-43c5-aa7e-5094df34d9cb"
      },
      "outputs": [],
      "source": [
        "import numpy as np\n",
        "import skdim\n",
        "from scipy.spatial.distance import cdist\n",
        "from PHdim import PHD"
      ]
    },
    {
      "cell_type": "code",
      "execution_count": 5,
      "id": "ac520ee2-1c4a-44b8-927a-af92d602efe5",
      "metadata": {
        "id": "ac520ee2-1c4a-44b8-927a-af92d602efe5"
      },
      "outputs": [],
      "source": [
        "# creating data\n",
        "X = np.zeros((1000,10))\n",
        "X[:,:5] = skdim.datasets.hyperBall(n = 1000, d = 5, radius = 1, random_state = 0)\n"
      ]
    },
    {
      "cell_type": "code",
      "source": [
        "# estimating the dimension\n",
        "intD = PHD('classic').fit_transform(X)\n",
        "print(intD)"
      ],
      "metadata": {
        "colab": {
          "base_uri": "https://localhost:8080/"
        },
        "id": "_ubBlsVJ0DgT",
        "outputId": "61cc8f67-ea63-4023-b384-575f4d785875"
      },
      "id": "_ubBlsVJ0DgT",
      "execution_count": 6,
      "outputs": [
        {
          "output_type": "stream",
          "name": "stdout",
          "text": [
            "4.536509473649996\n"
          ]
        }
      ]
    },
    {
      "cell_type": "code",
      "source": [
        "intD = PHD('cupy').fit_transform(X)\n",
        "print(intD)"
      ],
      "metadata": {
        "colab": {
          "base_uri": "https://localhost:8080/"
        },
        "id": "9fBlR_BI0Fz_",
        "outputId": "3c9fa25b-f4db-48b8-f2d8-b35815565454"
      },
      "id": "9fBlR_BI0Fz_",
      "execution_count": 7,
      "outputs": [
        {
          "output_type": "stream",
          "name": "stdout",
          "text": [
            "4.560836690714459\n"
          ]
        }
      ]
    },
    {
      "cell_type": "code",
      "source": [
        "intD = PHD('numba').fit_transform(X)\n",
        "print(intD)"
      ],
      "metadata": {
        "colab": {
          "base_uri": "https://localhost:8080/"
        },
        "id": "K9Qk30BuyesB",
        "outputId": "e0b43e8b-6d5c-4ada-8e42-688920f44867"
      },
      "id": "K9Qk30BuyesB",
      "execution_count": 8,
      "outputs": [
        {
          "output_type": "stream",
          "name": "stdout",
          "text": [
            "4.645658652514563\n"
          ]
        }
      ]
    },
    {
      "cell_type": "code",
      "source": [],
      "metadata": {
        "id": "Vk-Iosr60HUC"
      },
      "id": "Vk-Iosr60HUC",
      "execution_count": null,
      "outputs": []
    }
  ],
  "metadata": {
    "kernelspec": {
      "display_name": "Python 3",
      "name": "python3"
    },
    "language_info": {
      "codemirror_mode": {
        "name": "ipython",
        "version": 3
      },
      "file_extension": ".py",
      "mimetype": "text/x-python",
      "name": "python",
      "nbconvert_exporter": "python",
      "pygments_lexer": "ipython3",
      "version": "3.9.13"
    },
    "colab": {
      "provenance": [],
      "gpuType": "T4"
    },
    "accelerator": "GPU"
  },
  "nbformat": 4,
  "nbformat_minor": 5
}