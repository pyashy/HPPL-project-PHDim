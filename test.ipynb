{
  "cells": [
    {
      "cell_type": "code",
      "source": [
        "from google.colab import drive\n",
        "drive.mount('/content/drive')"
      ],
      "metadata": {
        "colab": {
          "base_uri": "https://localhost:8080/"
        },
        "id": "Zf8grIoOg4HJ",
        "outputId": "70c34364-8aea-4d5b-d4c7-888bcc8aa042"
      },
      "id": "Zf8grIoOg4HJ",
      "execution_count": 1,
      "outputs": [
        {
          "output_type": "stream",
          "name": "stdout",
          "text": [
            "Mounted at /content/drive\n"
          ]
        }
      ]
    },
    {
      "cell_type": "code",
      "source": [
        "!pip install scikit-dimension"
      ],
      "metadata": {
        "colab": {
          "base_uri": "https://localhost:8080/"
        },
        "id": "wMxxVnHaxPsy",
        "outputId": "4c6c4e40-062a-40c7-faa3-1cb7c2b1e82f"
      },
      "id": "wMxxVnHaxPsy",
      "execution_count": 1,
      "outputs": [
        {
          "output_type": "stream",
          "name": "stdout",
          "text": [
            "Collecting scikit-dimension\n",
            "  Downloading scikit_dimension-0.3.3-py3-none-any.whl (65 kB)\n",
            "\u001b[2K     \u001b[90m━━━━━━━━━━━━━━━━━━━━━━━━━━━━━━━━━━━━━━━━\u001b[0m \u001b[32m65.0/65.0 kB\u001b[0m \u001b[31m680.9 kB/s\u001b[0m eta \u001b[36m0:00:00\u001b[0m\n",
            "\u001b[?25hRequirement already satisfied: numpy in /usr/local/lib/python3.10/dist-packages (from scikit-dimension) (1.23.5)\n",
            "Requirement already satisfied: numba in /usr/local/lib/python3.10/dist-packages (from scikit-dimension) (0.58.1)\n",
            "Requirement already satisfied: scipy in /usr/local/lib/python3.10/dist-packages (from scikit-dimension) (1.11.4)\n",
            "Requirement already satisfied: scikit-learn in /usr/local/lib/python3.10/dist-packages (from scikit-dimension) (1.2.2)\n",
            "Requirement already satisfied: llvmlite<0.42,>=0.41.0dev0 in /usr/local/lib/python3.10/dist-packages (from numba->scikit-dimension) (0.41.1)\n",
            "Requirement already satisfied: joblib>=1.1.1 in /usr/local/lib/python3.10/dist-packages (from scikit-learn->scikit-dimension) (1.3.2)\n",
            "Requirement already satisfied: threadpoolctl>=2.0.0 in /usr/local/lib/python3.10/dist-packages (from scikit-learn->scikit-dimension) (3.2.0)\n",
            "Installing collected packages: scikit-dimension\n",
            "Successfully installed scikit-dimension-0.3.3\n"
          ]
        }
      ]
    },
    {
      "cell_type": "code",
      "source": [
        "import sys\n",
        "sys.path.append('/content/drive/MyDrive/Colab_Notebooks/HPPL/Final_project/HPPL-project-PHDim-main')\n",
        "#import PHdim"
      ],
      "metadata": {
        "id": "NsAxm_JBhltC"
      },
      "id": "NsAxm_JBhltC",
      "execution_count": 3,
      "outputs": []
    },
    {
      "cell_type": "code",
      "source": [
        "import cupy as cp"
      ],
      "metadata": {
        "id": "jlRTi-uczOWd"
      },
      "id": "jlRTi-uczOWd",
      "execution_count": 3,
      "outputs": []

    },
    {
      "cell_type": "code",
      "execution_count": 2,
      "id": "cb6fcfbf-83f4-43c5-aa7e-5094df34d9cb",
      "metadata": {
        "id": "cb6fcfbf-83f4-43c5-aa7e-5094df34d9cb"
      },
      "outputs": [],
      "source": [
        "import numpy as np\n",
        "import skdim\n",
        "#from scipy.spatial.distance import cdist\n",
        "#from PHdim import PHD"
      ]
    },
    {
      "cell_type": "code",
      "source": [
        "from scipy.spatial.distance import cdist\n",
        "import numpy as np\n",
        "# import cupy as cp\n",
        "from numba import jit\n",
        "import multiprocessing as mp\n",
        "import time\n",
        "\n",
        "\n",
        "\n",
        "class PHD():\n",
        "\n",
        "    def __init__(\n",
        "        self,\n",
        "        alpha=1.0,\n",
        "        metric='euclidean',\n",
        "        n_reruns=5,\n",
        "        n_points=15,\n",
        "        mst_method_name: str = 'classic'):\n",
        "        '''\n",
        "        Initializes the instance of PH-dim estimator\n",
        "        Parameters:\n",
        "        1) alpha --- real-valued parameter Alpha for computing PH-dim (see the reference paper). Alpha should be chosen\n",
        "        lower than the ground-truth Intrinsic Dimensionality; however, Alpha=1.0 works just fine for our kind of data.\n",
        "        2) metric --- String or Callable, distance function for the metric space (see documentation for Scipy.cdist)\n",
        "        3) n_reruns --- Number of restarts of whole calculations\n",
        "        4) n_points --- Number of subsamples to be drawn at each subsample\n",
        "        '''\n",
        "        self.alpha = alpha\n",
        "        self.n_reruns = n_reruns\n",
        "        self.n_points = n_points\n",
        "        self.metric = metric\n",
        "        self.is_fitted_ = False\n",
        "        self.mst_method_name = mst_method_name\n",
        "\n",
        "        method = {\n",
        "            'classic': self.get_mst_value,\n",
        "            'multiprocessing': self.get_mp_mst_value,\n",
        "            'numba': self.get_nb_mst_value,\n",
        "            'cupy': self.get_cp_mst_value,\n",
        "        }\n",
        "\n",
        "        if mst_method_name not in method.keys():\n",
        "            raise ValueError(f'Method {mst_method_name} is not implemented')\n",
        "        self.mst_method = method[mst_method_name]\n",
        "\n",
        "    def _generate_samples(self, dist_mat, min_points):\n",
        "        n = dist_mat.shape[0]\n",
        "        test_n = np.linspace(min_points, n * 0.9, self.n_points).astype(int)\n",
        "        random_indices = []\n",
        "        for i in np.repeat(test_n, self.n_reruns):\n",
        "            random_indices.append(np.random.choice(n, size=i, replace=False))\n",
        "        return random_indices, test_n\n",
        "\n",
        "    def _prim_tree(self, adj_matrix, ids, alpha=1.0):\n",
        "\n",
        "        adj_matrix = adj_matrix[np.ix_(ids,ids)]\n",
        "\n",
        "        infty = np.max(adj_matrix) + 10\n",
        "\n",
        "        dst = np.ones(adj_matrix.shape[0]) * infty\n",
        "        visited = np.zeros(adj_matrix.shape[0], dtype=bool)\n",
        "        ancestor = -np.ones(adj_matrix.shape[0], dtype=int)\n",
        "\n",
        "        v, s = 0, 0.0\n",
        "        for i in range(adj_matrix.shape[0] - 1):\n",
        "            visited[v] = 1\n",
        "            ancestor[dst > adj_matrix[v]] = v\n",
        "            dst = np.minimum(dst, adj_matrix[v])\n",
        "            dst[visited] = infty\n",
        "\n",
        "            v = np.argmin(dst)\n",
        "            s += (adj_matrix[v][ancestor[v]] ** alpha)\n",
        "\n",
        "        return s.item()\n",
        "\n",
        "    def _cp_prim_tree(self, adj_matrix, ids, alpha=1.0):\n",
        "\n",
        "        adj_matrix = adj_matrix[cp.ix_(ids,ids)]\n",
        "\n",
        "        infty = cp.max(adj_matrix) + 10\n",
        "\n",
        "        dst = cp.ones(adj_matrix.shape[0]) * infty\n",
        "        visited = cp.zeros(adj_matrix.shape[0], dtype=bool)\n",
        "        ancestor = -cp.ones(adj_matrix.shape[0], dtype=int)\n",
        "\n",
        "        v, s = 0, 0.0\n",
        "        for i in range(adj_matrix.shape[0] - 1):\n",
        "            visited[v] = 1\n",
        "            ancestor[dst > adj_matrix[v]] = v\n",
        "            dst = cp.minimum(dst, adj_matrix[v])\n",
        "            dst[visited] = infty\n",
        "\n",
        "            v = cp.argmin(dst)\n",
        "            s += (adj_matrix[v][ancestor[v]] ** alpha)\n",
        "\n",
        "        return s.item()\n",
        "\n",
        "\n",
        "    def _mp_prim_tree(self, adj_matrix, ids, return_dict, l, alpha=1.0):\n",
        "\n",
        "        adj_matrix = adj_matrix[cp.ix_(ids,ids)]\n",
        "\n",
        "        infty = cp.max(adj_matrix) + 10\n",
        "\n",
        "        dst = cp.ones(adj_matrix.shape[0]) * infty\n",
        "        visited = cp.zeros(adj_matrix.shape[0], dtype=bool)\n",
        "        ancestor = -cp.ones(adj_matrix.shape[0], dtype=int)\n",
        "\n",
        "        v, s = 0, 0.0\n",
        "        for i in range(adj_matrix.shape[0] - 1):\n",
        "            visited[v] = 1\n",
        "            ancestor[dst > adj_matrix[v]] = v\n",
        "            dst = cp.minimum(dst, adj_matrix[v])\n",
        "            dst[visited] = infty\n",
        "\n",
        "            v = cp.argmin(dst)\n",
        "            s += (adj_matrix[v][ancestor[v]] ** alpha)\n",
        "        return_dict[l] = s.item()\n",
        "\n",
        "    def get_mst_value(self, random_indices, dist_mat):\n",
        "        mst_values = np.zeros(len(random_indices))\n",
        "        for i, ids in enumerate(random_indices):\n",
        "            mst_values[i] = self._prim_tree(dist_mat, ids)\n",
        "        return mst_values\n",
        "\n",
        "    def get_mp_mst_value(self, random_indices, dist_mat):\n",
        "\n",
        "        mst_values = np.zeros(len(random_indices))\n",
        "        # num_workers = mp.cpu_count()\n",
        "        manager = mp.Manager()\n",
        "        return_dict = manager.dict()\n",
        "        pool = mp.Pool(2)\n",
        "        for i, ids in enumerate(random_indices):\n",
        "            pool.apply_async(self._mp_prim_tree, args = (dist_mat, ids, return_dict, i))\n",
        "        pool.close()\n",
        "        pool.join()\n",
        "\n",
        "        for k in return_dict.keys():\n",
        "            mst_values[k] = return_dict[k]\n",
        "\n",
        "        return mst_values\n",
        "\n",
        "    def get_cp_mst_value(self, random_indices, dist_mat):\n",
        "        mst_values = cp.zeros(len(random_indices))\n",
        "        for i, ids in enumerate(random_indices):\n",
        "            mst_values[i] = self._cp_prim_tree(dist_mat, ids)\n",
        "        return mst_values.get()\n",
        "\n",
        "    def pairwise_distance_matrix(self, points):\n",
        "        squared_distances = cp.sum(points**2, axis=1, keepdims=True) + cp.sum(points**2, axis=1) - 2 * cp.dot(points, points.T)\n",
        "        distance_matrix = cp.sqrt(np.maximum(squared_distances, 0))\n",
        "        return distance_matrix\n",
        "\n",
        "    @jit\n",
        "    def pairwise_distance_matrix_numba(self, points):\n",
        "        n_points = points.shape[0]\n",
        "        squared_distances = np.sum(points**2, axis=1, keepdims=True) + np.sum(points**2, axis=1) - 2 * np.dot(points, points.T)\n",
        "        distance_matrix = np.sqrt(np.maximum(squared_distances, 0))\n",
        "\n",
        "        return distance_matrix\n",
        "\n",
        "    @jit\n",
        "    def get_nb_mst_value(self, random_indices, dist_mat):\n",
        "        mst_values = np.zeros(len(random_indices))\n",
        "        for i, ids in enumerate(random_indices):\n",
        "            mst_values[i] = self._prim_tree(dist_mat, ids)\n",
        "        return mst_values\n",
        "\n",
        "\n",
        "    def fit_transform(self, X, y=None, min_points = 50):\n",
        "        '''\n",
        "        Computing the PH-dim\n",
        "        Parameters:\n",
        "        1) X --- point cloud of shape (n_points, n_features),\n",
        "        2) y --- fictional parameter to fit with Sklearn interface\n",
        "        3) min_points --- size of minimal subsample to be drawn\n",
        "        '''\n",
        "\n",
        "        start_time_total = time.time()\n",
        "\n",
        "        # Measure the time for cdist\n",
        "        start_time_cdist = time.time()\n",
        "        # def pairwise_distance_matrix(points):\n",
        "        #      squared_distances = cp.sum(points**2, axis=1, keepdims=True) + cp.sum(points**2, axis=1) - 2 * cp.dot(points, points.T)\n",
        "        #      distance_matrix = cp.sqrt(np.maximum(squared_distances, 0))\n",
        "        #      return distance_matrix\n",
        "\n",
        "        if self.mst_method_name == 'cupy':\n",
        "          if self.metric == 'euclidean':\n",
        "            dist_mat = self.pairwise_distance_matrix(X)\n",
        "          else: print('Not implemented')\n",
        "\n",
        "        if self.mst_method_name == 'numba':\n",
        "          if self.metric == 'euclidean':\n",
        "            dist_mat = self.pairwise_distance_matrix_numba(X)\n",
        "          else: print('Not implemented')\n",
        "\n",
        "        else:\n",
        "            dist_mat = cdist(X, X, metric=self.metric)\n",
        "\n",
        "        elapsed_time_cdist = time.time() - start_time_cdist\n",
        "        print(f\"Time taken by cdist: {elapsed_time_cdist} seconds\")\n",
        "\n",
        "        random_indices, x = self._generate_samples(dist_mat, min_points)\n",
        "\n",
        "        # Measure the time for the loop\n",
        "        start_time_loop = time.time()\n",
        "        ##### HERE IS THE ONLY LOOP WE NEED TO SPEED UP #####\n",
        "        mst_values = self.mst_method(random_indices, dist_mat)\n",
        "\n",
        "        elapsed_time_loop = time.time() - start_time_loop\n",
        "        print(f\"Time taken by loop: {elapsed_time_loop} seconds\")\n",
        "\n",
        "        y = mst_values.reshape(-1, self.n_reruns).mean(axis = 1)\n",
        "\n",
        "        x = np.log(x)\n",
        "        y = np.log(y)\n",
        "        N = self.n_points\n",
        "\n",
        "        m = (N * (x * y).sum() - x.sum() * y.sum()) / (N * (x ** 2).sum() - x.sum() ** 2)\n",
        "\n",
        "        # Record the end time for the entire algorithm\n",
        "        end_time_total = time.time()\n",
        "        total_time = end_time_total - start_time_total\n",
        "\n",
        "        # Calculate the percentage of time spent in cdist relative to the total time\n",
        "        percentage_time_cdist = (elapsed_time_cdist / total_time) * 100\n",
        "\n",
        "        print(f\"Total time for the algorithm: {total_time} seconds\")\n",
        "        print(f\"Percentage time spent in cdist: {percentage_time_cdist:.2f}%\")\n",
        "        print(f\"Percentage time spent in the loop: {(elapsed_time_loop / total_time) * 100:.2f}%\")\n",
        "\n",
        "        return 1 / (1 - m)"
      ],
      "metadata": {
        "id": "NUDNDRJDi4bc"
      },
      "id": "NUDNDRJDi4bc",
      "execution_count": 80,
      "outputs": []
    },
    {
      "cell_type": "code",
      "execution_count": 76,
      "id": "ac520ee2-1c4a-44b8-927a-af92d602efe5",
      "metadata": {
        "id": "ac520ee2-1c4a-44b8-927a-af92d602efe5"
      },
      "outputs": [],
      "source": [
        "# creating data\n",
        "X = np.zeros((10_000,512))\n",
        "X[:,:5] = skdim.datasets.hyperBall(n = 10_000, d = 5, radius = 1, random_state = 0)\n"
      ]
    },
    {
      "cell_type": "code",
      "source": [
        "intD = PHD('classic').fit_transform(X)\n",
        "print(intD)"
      ],
      "metadata": {
        "colab": {
          "base_uri": "https://localhost:8080/"
        },
        "id": "_ubBlsVJ0DgT",
        "outputId": "af801e1b-91ee-4d1a-e0b8-73e7b252bbfb"
      },
      "id": "_ubBlsVJ0DgT",
      "execution_count": 56,
      "outputs": [
        {
          "output_type": "stream",
          "name": "stdout",
          "text": [
            "Time taken by cdist: 34.118144273757935 seconds\n",
            "Time taken by loop: 45.453988552093506 seconds\n",
            "Total time for the algorithm: 79.58793807029724 seconds\n",
            "Percentage time spent in cdist: 42.87%\n",
            "Percentage time spent in the loop: 57.11%\n",
            "4.756041872288001\n"
          ]
        }
      ]
    },
    {
      "cell_type": "code",
      "source": [
        "intD = PHD(mst_method_name='cupy').fit_transform(cp.array(X))\n",
        "print(intD)"
      ],
      "metadata": {
        "colab": {
          "base_uri": "https://localhost:8080/"
        },
        "id": "9fBlR_BI0Fz_",
        "outputId": "a4aecb6a-8bc7-40de-cfa7-cdac6e863a76"
      },
      "id": "9fBlR_BI0Fz_",
      "execution_count": 57,
      "outputs": [
        {
          "output_type": "stream",
          "name": "stdout",
          "text": [
            "Time taken by cdist: 0.004437685012817383 seconds\n",
            "Time taken by loop: 282.55278038978577 seconds\n",
            "Total time for the algorithm: 282.5722312927246 seconds\n",
            "Percentage time spent in cdist: 0.00%\n",
            "Percentage time spent in the loop: 99.99%\n",
            "4.673447684092005\n"
          ]
        }
      ]
    },
    {
      "cell_type": "code",
      "source": [
        "intD = PHD(mst_method_name = 'numba').fit_transform(X)\n",
        "print(intD)"
      ],
      "metadata": {
        "colab": {
          "base_uri": "https://localhost:8080/"
        },
        "id": "K9Qk30BuyesB",
        "outputId": "dc7b436d-9645-4fdf-ef3f-ed02c9111164"
      },
      "id": "K9Qk30BuyesB",
      "execution_count": 81,
      "outputs": [
        {
          "output_type": "stream",
          "name": "stdout",
          "text": [
            "Time taken by cdist: 4.389850854873657 seconds\n",
            "Time taken by loop: 47.64099144935608 seconds\n",
            "Total time for the algorithm: 52.04610800743103 seconds\n",
            "Percentage time spent in cdist: 8.43%\n",
            "Percentage time spent in the loop: 91.54%\n",
            "4.758746799202225\n"
          ]
        }
      ]
    },
    {
      "cell_type": "code",
      "source": [
        "intD = PHD('multiprocessing').fit_transform(X)\n",
        "print(intD)"
      ],
      "metadata": {
        "colab": {
          "base_uri": "https://localhost:8080/"
        },
        "id": "HJ3gsAPakoQx",
        "outputId": "59036c74-0efa-450f-efda-5e9f3bc11356"
      },
      "id": "HJ3gsAPakoQx",
      "execution_count": 40,
      "outputs": [
        {
          "output_type": "stream",
          "name": "stdout",
          "text": [
            "Time taken by cdist: 0.010948657989501953 seconds\n",
            "Time taken by loop: 0.5531389713287354 seconds\n",
            "Total time for the algorithm: 0.5695559978485107 seconds\n",
            "Percentage time spent in cdist: 1.92%\n",
            "Percentage time spent in the loop: 97.12%\n",
            "4.626164013113161\n"
          ]
        }
      ]
    }
  ],
  "metadata": {
    "kernelspec": {
      "display_name": "Python 3",
      "name": "python3"
    },
    "language_info": {
      "codemirror_mode": {
        "name": "ipython",
        "version": 3
      },
      "file_extension": ".py",
      "mimetype": "text/x-python",
      "name": "python",
      "nbconvert_exporter": "python",
      "pygments_lexer": "ipython3",
      "version": "3.9.13"
    },
    "colab": {
      "provenance": [],
      "gpuType": "T4"
    },
    "accelerator": "GPU"
  },
  "nbformat": 4,
  "nbformat_minor": 5
}