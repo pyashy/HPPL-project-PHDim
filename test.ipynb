{
 "cells": [
  {
   "cell_type": "code",
   "execution_count": 1,
   "id": "wMxxVnHaxPsy",
   "metadata": {
    "colab": {
     "base_uri": "https://localhost:8080/"
    },
    "id": "wMxxVnHaxPsy",
    "outputId": "88c8c481-9e8a-4419-99ca-632c4761200d"
   },
   "outputs": [
    {
     "name": "stdout",
     "output_type": "stream",
     "text": [
      "Requirement already satisfied: scikit-dimension in /Users/kris/opt/anaconda3/lib/python3.9/site-packages (0.3.3)\n",
      "Requirement already satisfied: numpy in /Users/kris/opt/anaconda3/lib/python3.9/site-packages (from scikit-dimension) (1.21.5)\n",
      "Requirement already satisfied: scipy in /Users/kris/opt/anaconda3/lib/python3.9/site-packages (from scikit-dimension) (1.9.1)\n",
      "Requirement already satisfied: scikit-learn in /Users/kris/opt/anaconda3/lib/python3.9/site-packages (from scikit-dimension) (1.0.2)\n",
      "Requirement already satisfied: numba in /Users/kris/opt/anaconda3/lib/python3.9/site-packages (from scikit-dimension) (0.55.1)\n",
      "Requirement already satisfied: setuptools in /Users/kris/opt/anaconda3/lib/python3.9/site-packages (from numba->scikit-dimension) (63.4.1)\n",
      "Requirement already satisfied: llvmlite<0.39,>=0.38.0rc1 in /Users/kris/opt/anaconda3/lib/python3.9/site-packages (from numba->scikit-dimension) (0.38.0)\n",
      "Requirement already satisfied: joblib>=0.11 in /Users/kris/opt/anaconda3/lib/python3.9/site-packages (from scikit-learn->scikit-dimension) (1.1.0)\n",
      "Requirement already satisfied: threadpoolctl>=2.0.0 in /Users/kris/opt/anaconda3/lib/python3.9/site-packages (from scikit-learn->scikit-dimension) (2.2.0)\n"
     ]
    }
   ],
   "source": [
    "!pip install scikit-dimension"
   ]
  },
  {
   "cell_type": "code",
   "execution_count": 1,
   "id": "jlRTi-uczOWd",
   "metadata": {
    "id": "jlRTi-uczOWd"
   },
   "outputs": [],
   "source": [
    "import cupy as cp"
   ]
  },
  {
   "cell_type": "code",
   "execution_count": 2,
   "id": "cb6fcfbf-83f4-43c5-aa7e-5094df34d9cb",
   "metadata": {
    "id": "cb6fcfbf-83f4-43c5-aa7e-5094df34d9cb"
   },
   "outputs": [],
   "source": [
    "import numpy as np\n",
    "import skdim\n",
    "from scipy.spatial.distance import cdist\n",
    "from PHdim import PHD"
   ]
  },
  {
   "cell_type": "code",
   "execution_count": 3,
   "id": "ac520ee2-1c4a-44b8-927a-af92d602efe5",
   "metadata": {
    "id": "ac520ee2-1c4a-44b8-927a-af92d602efe5"
   },
   "outputs": [],
   "source": [
    "# creating data\n",
    "X = np.zeros((1000,10))\n",
    "X[:,:5] = skdim.datasets.hyperBall(n = 1000, d = 5, radius = 1, random_state = 0)\n"
   ]
  },
  {
   "cell_type": "code",
   "execution_count": 6,
   "id": "_ubBlsVJ0DgT",
   "metadata": {
    "colab": {
     "base_uri": "https://localhost:8080/"
    },
    "id": "_ubBlsVJ0DgT",
    "outputId": "61cc8f67-ea63-4023-b384-575f4d785875"
   },
   "outputs": [
    {
     "name": "stdout",
     "output_type": "stream",
     "text": [
      "4.579334571971665\n"
     ]
    }
   ],
   "source": [
    "# estimating the dimension\n",
    "intD = PHD('classic').fit_transform(X)\n",
    "print(intD)"
   ]
  },
  {
   "cell_type": "code",
   "execution_count": 7,
   "id": "bb7e278f-de3b-4be4-9317-58bbc8ff3352",
   "metadata": {},
   "outputs": [
    {
     "name": "stdout",
     "output_type": "stream",
     "text": [
      "4.739194657816091\n"
     ]
    }
   ],
   "source": [
    "intD = PHD('multiprocessing').fit_transform(X)\n",
    "print(intD)"
   ]
  },
  {
   "cell_type": "code",
   "execution_count": 7,
   "id": "9fBlR_BI0Fz_",
   "metadata": {
    "colab": {
     "base_uri": "https://localhost:8080/"
    },
    "id": "9fBlR_BI0Fz_",
    "outputId": "3c9fa25b-f4db-48b8-f2d8-b35815565454"
   },
   "outputs": [
    {
     "name": "stdout",
     "output_type": "stream",
     "text": [
      "4.560836690714459\n"
     ]
    }
   ],
   "source": [
    "intD = PHD('cupy').fit_transform(X)\n",
    "print(intD)"
   ]
  },
  {
   "cell_type": "code",
   "execution_count": 8,
   "id": "K9Qk30BuyesB",
   "metadata": {
    "colab": {
     "base_uri": "https://localhost:8080/"
    },
    "id": "K9Qk30BuyesB",
    "outputId": "e0b43e8b-6d5c-4ada-8e42-688920f44867"
   },
   "outputs": [
    {
     "name": "stdout",
     "output_type": "stream",
     "text": [
      "4.645658652514563\n"
     ]
    }
   ],
   "source": [
    "intD = PHD('numba').fit_transform(X)\n",
    "print(intD)"
   ]
  },
  {
   "cell_type": "code",
   "execution_count": null,
   "id": "Vk-Iosr60HUC",
   "metadata": {
    "id": "Vk-Iosr60HUC"
   },
   "outputs": [],
   "source": []
  }
 ],
 "metadata": {
  "accelerator": "GPU",
  "colab": {
   "gpuType": "T4",
   "provenance": []
  },
  "kernelspec": {
   "display_name": "Python 3 (ipykernel)",
   "language": "python",
   "name": "python3"
  },
  "language_info": {
   "codemirror_mode": {
    "name": "ipython",
    "version": 3
   },
   "file_extension": ".py",
   "mimetype": "text/x-python",
   "name": "python",
   "nbconvert_exporter": "python",
   "pygments_lexer": "ipython3",
   "version": "3.9.13"
  }
 },
 "nbformat": 4,
 "nbformat_minor": 5
}
