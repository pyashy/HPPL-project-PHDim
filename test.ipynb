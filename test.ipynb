{
 "cells": [
  {
   "cell_type": "code",
   "execution_count": 1,
   "id": "cb6fcfbf-83f4-43c5-aa7e-5094df34d9cb",
   "metadata": {},
   "outputs": [],
   "source": [
    "import numpy as np\n",
    "import skdim\n",
    "from scipy.spatial.distance import cdist\n",
    "from PHdim import PHD"
   ]
  },
  {
   "cell_type": "code",
   "execution_count": 2,
   "id": "ac520ee2-1c4a-44b8-927a-af92d602efe5",
   "metadata": {},
   "outputs": [
    {
     "name": "stdout",
     "output_type": "stream",
     "text": [
      "4.798388788816049\n"
     ]
    }
   ],
   "source": [
    "# creating data\n",
    "X = np.zeros((1000,10))\n",
    "X[:,:5] = skdim.datasets.hyperBall(n = 1000, d = 5, radius = 1, random_state = 0)\n",
    "\n",
    "# estimating the dimension\n",
    "intD = PHD().fit_transform(X)\n",
    "print(intD)"
   ]
  }
 ],
 "metadata": {
  "kernelspec": {
   "display_name": "Python 3 (ipykernel)",
   "language": "python",
   "name": "python3"
  },
  "language_info": {
   "codemirror_mode": {
    "name": "ipython",
    "version": 3
   },
   "file_extension": ".py",
   "mimetype": "text/x-python",
   "name": "python",
   "nbconvert_exporter": "python",
   "pygments_lexer": "ipython3",
   "version": "3.9.13"
  }
 },
 "nbformat": 4,
 "nbformat_minor": 5
}
